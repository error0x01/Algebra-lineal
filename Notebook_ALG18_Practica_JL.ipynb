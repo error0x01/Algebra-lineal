{
 "cells": [
  {
   "cell_type": "markdown",
   "metadata": {},
   "source": [
    "# Practica de Algebra lineal\n",
    "\n",
    "### *<span style=\"color:red\">error0x01</style>*"
   ]
  },
  {
   "cell_type": "markdown",
   "metadata": {},
   "source": [
    "<span style=\"color:blue\">Ejercicio 1:  \n",
    "Usando los procedimientos add y mult_vector_escalar definidos anteriormente, calcular:   \n",
    "{$\\alpha$[1,2]+[3,4] : $\\alpha$$\\in$$\\mathbb{R}$, 0$\\leq$$\\alpha$$\\leq$1, con una precision de dos decimales (para la multiplicación)}</style>"
   ]
  },
  {
   "cell_type": "code",
   "execution_count": null,
   "metadata": {},
   "outputs": [],
   "source": [
    "# Bonus adicional: \n",
    "# Utiliza los widgets para seleccionar el intervalo de alpha y la precisión\n",
    "# La configuración del ejercicio sería a_min=0 y a_max=101\n",
    "# No debería de requerir la instalación de ningún paquete adicional\n",
    "\n",
    "import ipywidgets as widgets\n",
    "from IPython.display import display\n",
    "\n",
    "button = widgets.Button(description=\"Pulsar para finalizar la revisión\")\n",
    "\n",
    "def on_button_clicked(b):\n",
    "    print(\"Eso es to..., eso es to..., eso es todo amigos!!!!\")\n",
    "\n",
    "button.on_click(on_button_clicked)\n",
    "\n",
    "a_min = widgets.IntSlider(value=96,max=100)\n",
    "a_max = widgets.IntSlider(value=101,min=1,max=101)\n",
    "precision = widgets.Dropdown(\n",
    "    options=['0', '1', '2', '3', '4', '5'],\n",
    "    value='2',\n",
    "    description='Precision:',\n",
    "    disabled=False,\n",
    ")\n",
    "\n",
    "display(a_min,a_max,precision)"
   ]
  },
  {
   "cell_type": "code",
   "execution_count": null,
   "metadata": {},
   "outputs": [],
   "source": [
    "# Nota: ¿Por qué utilizar \"add\" teniendo \"addn\"?\n",
    "\n",
    "def addn(v,w):\n",
    "    return[v[i]+w[i] for i in range(len(v))]\n",
    "\n",
    "def mult_vector_escalar(alpha,v):\n",
    "    return [alpha*v[i] for i in range(len(v))]\n",
    "\n",
    "def preci(v,p):\n",
    "    return [round(v[i],p) for i in range(len(v))]\n",
    "\n",
    "# Los vectores pueden ser sustituidos por otros de distinta longitud\n",
    "v1=[1,2]\n",
    "v2=[3,4]\n",
    "\n",
    "Ej1=[preci(addn(mult_vector_escalar(float(i)/100,v1),v2),int(precision.value)) for i in range(a_min.value,a_max.value)]\n",
    "Ej1"
   ]
  },
  {
   "cell_type": "markdown",
   "metadata": {},
   "source": [
    "<span style=\"color:blue\">Ejercicio 2:  \n",
    "Mortadelo y Filemón usan como clave el siguiente vector:</style>  \n",
    "> <span style=\"color:blue\">**k**=[0,1,0,0,1,0,1,0,1,0]</style>  \n",
    "\n",
    "<span style=\"color:blue\">Mortadelo quiere enviarle a Filemón el siguiente mensaje:</style>  \n",
    "> <span style=\"color:blue\">**p**=[0,0,0,1,1,1,0,1,0,1]</style>  \n",
    "\n",
    "<span style=\"color:blue\">Mortadelo encripta su mensaje añadiendo k:</style>  \n",
    "> <span style=\"color:blue\">**c**=**p**+**k**=[0,0,0,1,1,1,0,1,0,1]+[0,1,0,0,1,0,1,0,1,0]=[0,1,0,1,0,1,1,1,1,1]</style>  \n",
    "\n",
    "<span style=\"color:blue\">Cuando Filemón recibe el mensaje, lo desencripta añadiendo **k** a lo que ha recibido</style>  \n",
    "> <span style=\"color:blue\">**p**=**c**+**k**=[0,1,0,1,0,1,1,1,1,1]+[0,1,0,0,1,0,1,0,1,0]=[0,0,0,1,1,1,0,1,0,1]</style>    \n",
    "\n",
    "<span style=\"color:blue\">que es el mensaje original</style>    \n",
    "  \n",
    " <span style=\"color:blue\">¿Cómo lo harías en Python? (Definiendo un procedimiento)</style>  "
   ]
  },
  {
   "cell_type": "code",
   "execution_count": null,
   "metadata": {},
   "outputs": [],
   "source": [
    "import operator as op\n",
    "\n",
    "# Contempla la opción de identificar errores si los vectores no tienen la misma longitud\n",
    "def proc(x,y):\n",
    "    if (len(x) != len(y)):\n",
    "        return \"Atencion: Código erróneo\"\n",
    "    else:\n",
    "        return [int(op.ne(x[i],y[i])) for i in range(len(x))]\n",
    "\n",
    "k=[0,1,0,0,1,0,1,0,1,0]\n",
    "p=[0,0,0,1,1,1,0,1,0,1]\n",
    "\n",
    "cifrado=proc(k,p)\n",
    "descifrado=proc(cifrado,k)\n",
    "print(\"El mensaje cifrado es {0} y descrifrado {1}\".format(cifrado, descifrado))"
   ]
  },
  {
   "cell_type": "markdown",
   "metadata": {},
   "source": [
    "<span style=\"color:blue\">Ejercicio 3: coste total o beneficio. </style>\n",
    "\n",
    "<span style=\"color:blue\">Supongamos que D es el conjunto de algunos ingredientes de la cerveza: </style>\n",
    "> <span style=\"color:blue\">D={lúpulo, malta, agua, levadura}</style>  \n",
    "\n",
    "<span style=\"color:blue\">Por otro lado tenemos el vector coste:</style>  \n",
    "> <span style=\"color:blue\">coste={lúpulo: 2,5€, malta: 1.5€, agua: 0.006€, levadura: 0,45€}</style>  \n",
    "\n",
    "<span style=\"color:blue\">Por último tenemos el vector cantidad con lo necesario para hacer una cerveza:</style>  \n",
    "> <span style=\"color:blue\">cantidad={lúpulo: 6u, malta: 14u, agua: 7u, levadura: 11u}</style>  \n",
    "\n",
    "<span style=\"color:blue\">¿Cuánto cuesta hacer una cerveza?</style> "
   ]
  },
  {
   "cell_type": "code",
   "execution_count": null,
   "metadata": {},
   "outputs": [],
   "source": [
    "def producto_vectorial(u,v):\n",
    "    return sum(u[i]*v[i] for i in range(len(u)))\n",
    "\n",
    "coste=[2.5,1.5,0.006,0.45]\n",
    "cantidad=[6,14,7,11]\n",
    "pv=producto_vectorial(coste,cantidad)\n",
    "print(\"El coste de una cerveza es {0}€\".format(round(pv,2)))"
   ]
  },
  {
   "cell_type": "markdown",
   "metadata": {},
   "source": [
    "<span style=\"color:blue\"> Ejercicio 4:   \n",
    "¿Cómo escribirías cada uno de los vectores {[3,0,0],[0,2,0],[0,0,1]} como combinación lineal de {[2,0,1],[1,0,2],[2,2,2]}?\n",
    "Escribe las combinaciones lineales en Python. Seguramente tenga que definir una nueva suma.</style>"
   ]
  },
  {
   "cell_type": "code",
   "execution_count": null,
   "metadata": {},
   "outputs": [],
   "source": [
    "cl = [[2,0,1],[1,0,2],[2,2,2]]"
   ]
  },
  {
   "cell_type": "code",
   "execution_count": null,
   "metadata": {},
   "outputs": [],
   "source": [
    "addn(addn(mult_vector_escalar(2,cl[0]),mult_vector_escalar(-1,cl[1])),mult_vector_escalar(0,cl[2]))"
   ]
  },
  {
   "cell_type": "code",
   "execution_count": null,
   "metadata": {},
   "outputs": [],
   "source": [
    "addn(addn(mult_vector_escalar(-2./3.,cl[0]),mult_vector_escalar(-2./3.,cl[1])),mult_vector_escalar(1,cl[2]))"
   ]
  },
  {
   "cell_type": "code",
   "execution_count": null,
   "metadata": {},
   "outputs": [],
   "source": [
    "addn(addn(mult_vector_escalar(-1./3,cl[0]),mult_vector_escalar(2./3,cl[1])),mult_vector_escalar(0,cl[2]))"
   ]
  },
  {
   "cell_type": "markdown",
   "metadata": {},
   "source": [
    "<span style=\"color:blue\"> Ejercicio 5:  \n",
    "Dadas las matrices $\n",
    "  A=\n",
    "  \\left[ {\\begin{array}{cc}\n",
    "   2 & -3 \\\\\n",
    "   -4 & 6\\\\\n",
    "  \\end{array} } \\right]\n",
    "$ , $\n",
    "  B=\n",
    "  \\left[ {\\begin{array}{cc}\n",
    "   8 & 4 \\\\\n",
    "   5 & 5\\\\\n",
    "  \\end{array} } \\right]\n",
    "$\n",
    "y $\n",
    "  C=\n",
    "  \\left[ {\\begin{array}{cc}\n",
    "   5 & -2 \\\\\n",
    "   3 & 1\\\\\n",
    "  \\end{array} } \\right]\n",
    "$, queremos verificar que AB=AC pero que B≠C.</style> "
   ]
  },
  {
   "cell_type": "code",
   "execution_count": null,
   "metadata": {},
   "outputs": [],
   "source": [
    "import numpy as np\n",
    "\n",
    "A = np.matrix([\n",
    "    [2,-3],\n",
    "    [-4,6]\n",
    "    ])\n",
    "B = np.matrix([\n",
    "    [8,4],\n",
    "    [5,5]\n",
    "    ])\n",
    "C = np.matrix([\n",
    "    [5,-2],\n",
    "    [3,1]\n",
    "    ])\n",
    "\n",
    "t1 = np.array_equal(A * B, A * C)\n",
    "t2 = np.array_equal(B,C)\n",
    "print(\"'AB=AC:{0}' y 'B=C:{1}'\".format(t1, t2))"
   ]
  },
  {
   "cell_type": "markdown",
   "metadata": {},
   "source": [
    "<span style=\"color:blue\"> Ejercicio 6 :  \n",
    "Dadas la matriz $\n",
    "  A=\n",
    "  \\left[ {\\begin{array}{cc}\n",
    "   3 & -6 \\\\\n",
    "   -1 & 2\\\\\n",
    "  \\end{array} } \\right]\n",
    "$ , construye una matriz B de 2 × 2 tal que AB sea igual a la matriz cero. Las columnas de B no deben ser iguales entre sí y deben ser distintas de cero.</style> "
   ]
  },
  {
   "cell_type": "code",
   "execution_count": null,
   "metadata": {},
   "outputs": [],
   "source": [
    "#from scipy.linalg import solve\n",
    "\n",
    "A = np.matrix([\n",
    "    [3,-6],\n",
    "    [-1,2]\n",
    "    ])\n",
    "\n",
    "# B2 = np.matrix([\n",
    "#     ['a','b'],\n",
    "#     ['c','d']\n",
    "#     ])\n",
    "\n",
    "# Las ecuaciones que se obtienen de A*B2=0 son\n",
    "# 3a-6c=0\n",
    "# 3b-6d=0\n",
    "# -1a+2c=0\n",
    "# -1b+2d=0\n",
    "\n",
    "# C = np.matrix([\n",
    "#     [3,0,-6,0],\n",
    "#     [0,3,0,-6],\n",
    "#     [-1,0,2,0],\n",
    "#     [0,-1,0,2]\n",
    "#     ])\n",
    "\n",
    "# D = np.matrix([\n",
    "#     [0],\n",
    "#     [0],\n",
    "#     [0],\n",
    "#     [0]\n",
    "#     ])\n",
    "\n",
    "print(\"La matriz C es singular, por lo que al aplicar 'np.linalg.solve(C,D)' me devuelve error.\")\n",
    "print(\"Lo he intentado con:\")\n",
    "print(\"scipy.linalg import solve\")\n",
    "print(\"np.linalg.lstsq(C,D)\")\n",
    "print(\"pero ninguno ha devuelto el resutado correcto.\")\n",
    "print(\"calculado a mano la matriz solicitada es: B = np.matrix([[2,4],[1,2]])\")\n",
    "\n",
    "B = np.matrix([\n",
    "    [2,4],\n",
    "    [1,2]\n",
    "    ])\n",
    "\n",
    "print(\"Pero como se ve en el resultado de A * B:\")\n",
    "\n",
    "A * B"
   ]
  },
  {
   "cell_type": "markdown",
   "metadata": {},
   "source": [
    "<span style=\"color:orange\"> Ejemplo: Vamos a calcular el determinante de $\n",
    "  A=\n",
    "  \\left[ {\\begin{array}{cc}\n",
    "   1 & -4 & 2\\\\\n",
    "   -2 & 8 & -9\\\\\n",
    "   -1 & 7 & 0\\\\\n",
    "  \\end{array} } \\right]\n",
    "$ usando la regla de Sarrus.  \n",
    "detA=$1 \\cdot 8 \\cdot 0+(-2) \\cdot 7 \\cdot 2+(-1) \\cdot (-4) \\cdot (-9)-[(2 \\cdot 8 \\cdot (-1)+0 \\cdot (-2) \\cdot (-4)+1 \\cdot 7 \\cdot (-9)]=15$  </style>\n",
    "\n",
    "<span style=\"color:blue\"> Ejercicio 7:  \n",
    "Sarrus para el determinante de orden 3.  \n",
    "¿Cómo lo haríamos en Python?</style>"
   ]
  },
  {
   "cell_type": "code",
   "execution_count": null,
   "metadata": {},
   "outputs": [],
   "source": [
    "def sarrus(m):\n",
    "    s1=(m[0,0]*m[1,1]*m[2,2])+(m[0,1]*m[1,2]*m[2,0])+(m[0,2]*m[1,0]*m[2,1])\n",
    "    s2=((m[0,2]*m[1,1]*m[2,0])+(m[0,1]*m[1,0]*m[2,2])+(m[0,0]*m[1,2]*m[2,1]))\n",
    "    return s1-s2\n",
    "\n",
    "A = np.matrix([\n",
    "    [1,-4,2],\n",
    "    [-2,8,-9],\n",
    "    [-1,7,0]\n",
    "    ])\n",
    "\n",
    "sarrus(A)"
   ]
  },
  {
   "cell_type": "markdown",
   "metadata": {},
   "source": [
    "<span style=\"color:blue\"> Ejercicio 8:  \n",
    "Sabemos que hay un modo directo en Python para calcular los rangos. Calcula el número de soluciones de estos tres sistemas de ecuaciones empleándolo.</style> "
   ]
  },
  {
   "cell_type": "markdown",
   "metadata": {},
   "source": [
    "> <span style=\"color:blue\">x<sub>1</sub> − 2x<sub>2</sub> + x<sub>3</sub> = 0 </style>  \n",
    "> <span style=\"color:blue\">2x<sub>2</sub>−8x<sub>3</sub>= 8  </style>  \n",
    "> <span style=\"color:blue\">−4x<sub>1</sub> + 5x<sub>2</sub> + 9x<sub>3</sub> =− 9</style>"
   ]
  },
  {
   "cell_type": "code",
   "execution_count": null,
   "metadata": {},
   "outputs": [],
   "source": [
    "def solSisEq(m, ma):\n",
    "    # Calculamos el rango de la matriz original\n",
    "    rango_m = np.linalg.matrix_rank(m)\n",
    "    # Calculamos el rango de la matriz ampliada\n",
    "    rango_ma = np.linalg.matrix_rank(ma)\n",
    "    # Número de incógnitas (o columnas) de la matriz original\n",
    "    num_incog_m = m.shape[1]\n",
    "    \n",
    "    if rango_m == rango_ma:\n",
    "        if rango_m == num_incog_m:\n",
    "            print (\"Compatible determinado (tiene una única solución) ya que 'Rango_detM = Rango_detM_Amp = num_incog = {0}'\".format(rango_m, rango_ma, num_incog_m))\n",
    "        else:\n",
    "            print(\"Compatible indeterminado (tiene infinitas soluciones) ya que '(Rango_detM = Rango_detM_Amp = {0}) < (num_incog = {2})'\".format(rango_m, rango_ma, num_incog_m))\n",
    "    else:\n",
    "        print(\"Sistema de ecuaciones incompatible (no tiene solución) ya que 'Rango_detM = {0} ≠ Rango_detM_Amp = {1}'\".format(rango_m, rango_ma, num_incog_m))\n",
    "        \n",
    "A = np.array([\n",
    "    [1,-2,1],\n",
    "    [0,2,-8],\n",
    "    [-4,5,9]\n",
    "    ])\n",
    "\n",
    "A_Amp = np.array([\n",
    "        [1,-2,1,0],\n",
    "        [0,2,-8,8],\n",
    "        [-4,5,9,-9]\n",
    "        ])\n",
    "\n",
    "solSisEq(A,A_Amp)"
   ]
  },
  {
   "cell_type": "markdown",
   "metadata": {},
   "source": [
    "> <span style=\"color:blue\">x<sub>2</sub> −4x<sub>3</sub> =8  </style>  \n",
    "> <span style=\"color:blue\">2x<sub>1</sub> −3x<sub>2</sub> + 2x<sub>3</sub> =1  </style>  \n",
    "> <span style=\"color:blue\">5x<sub>1</sub> −8x<sub>2</sub> + 7x<sub>3</sub> =1</style>"
   ]
  },
  {
   "cell_type": "code",
   "execution_count": null,
   "metadata": {},
   "outputs": [],
   "source": [
    "B = np.array([\n",
    "    [0,1,-4],\n",
    "    [2,-3,2],\n",
    "    [5,-8,7]\n",
    "    ])\n",
    "\n",
    "B_Amp = np.array([\n",
    "        [0,1,-4,8],\n",
    "        [2,-3,2,1],\n",
    "        [5,-8,7,1]\n",
    "        ])\n",
    "\n",
    "solSisEq(B,B_Amp)"
   ]
  },
  {
   "cell_type": "markdown",
   "metadata": {},
   "source": [
    "> <span style=\"color:blue\">x<sub>1</sub> +x<sub>3</sub> =2  </style>  \n",
    "> <span style=\"color:blue\">2x<sub>1</sub> +3x<sub>2</sub> + x<sub>3</sub> =3  </style>  \n",
    "> <span style=\"color:blue\">3x<sub>1</sub> +3x<sub>2</sub> + 2x<sub>3</sub> =5</style>"
   ]
  },
  {
   "cell_type": "code",
   "execution_count": null,
   "metadata": {},
   "outputs": [],
   "source": [
    "C = np.array([\n",
    "    [1,0,1],\n",
    "    [2,3,1],\n",
    "    [3,3,2]\n",
    "    ])\n",
    "\n",
    "C_Amp = np.array([\n",
    "        [1,0,1,2],\n",
    "        [2,3,1,3],\n",
    "        [3,3,2,5]\n",
    "        ])\n",
    "\n",
    "solSisEq(C,C_Amp)"
   ]
  },
  {
   "cell_type": "markdown",
   "metadata": {},
   "source": [
    "<span style=\"color:blue\"> Ejercicio 9:  \n",
    "Comprobar que r(x,y) para un ángulo $\\theta$ es una función lineal.</style> "
   ]
  },
  {
   "cell_type": "markdown",
   "metadata": {},
   "source": [
    "Dados $\\mathbb{V}$ y $\\mathbb{W}$, espacios vectoriales de $\\mathbb{F}$.\n",
    "\n",
    "Supongamos que una función f: $\\mathbb{V}$ $\\longrightarrow$ $\\mathbb{W}$ satisface dos propiedades:  \n",
    "1. Para cada vector v en V y cada escalar α en F, f (αv) = αf(v)  \n",
    "2. Por cada dos vectores u y v en V, f (u + v) = f (u) + f (v)  \n",
    "\n",
    "Entonces llamamos a f **función lineal**.  \n",
    "\n",
    "Definimos f([x,y]) = función rotación $\\theta$º.  \n",
    "Sabemos que f([x,y]) = M ∗ [x,y] para alguna matriz M  \n",
    "> * Sabemos que r([1,0])=[cos$\\theta$,sen$\\theta$]\n",
    "> * Sabemos que r([0,1])=[-sen$\\theta$,cos$\\theta$] \n",
    "\n",
    "Por lo tanto:  \n",
    "  $M =\n",
    "  \\left[ {\\begin{array}{cc}\n",
    "   cos\\theta & -sen\\theta \\\\\n",
    "   sen\\theta & cos\\theta \\\\\n",
    "  \\end{array} } \\right]$\n",
    "\n",
    "\n",
    "**Primera condición: $f([α*x,α*y]) = α*f([x,y])$**\n",
    "\n",
    "$f([α*x,α*y]) = [α*x*cos(\\theta)-α*y*sen(\\theta),α*x*sen(\\theta)+α*y*cos(\\theta)] \n",
    "=\\\\ [α*(x*cos(\\theta)-y*sen(\\theta)),α*(x*sen(\\theta)+y*cos(\\theta))]=α*f([x,y])$\n",
    "\n",
    "**Segunda condición: $f([x+u,y+v]) = f([x,y]) + f([u,v])$**\n",
    "\n",
    "$f([x+u,y+v]) = [(x+u)*cos(\\theta)-(y+v)*sen(\\theta),(x+u)*sen(\\theta)+(y+v)*cos(\\theta))]=\\\\\n",
    "[(x*cos(\\theta)+u*cos(\\theta))-(y*sen(\\theta)+v*sen(\\theta)),(x*sen(\\theta)+u*sen(\\theta))+(y*cos(\\theta)+v*cos(\\theta)))]=\\\\\n",
    "[(x*cos(\\theta)-y*sen(\\theta))+(u*cos(\\theta)-v*sen(\\theta))\n",
    ",(x*sen(\\theta)+y*cos(\\theta))+(u*sen(\\theta)+v*cos(\\theta))]=\\\\\n",
    "[x*cos(\\theta)-y*sen(\\theta),x*sen(\\theta)+y*cos(\\theta)]\n",
    "+[u*cos(\\theta)-v*sen(\\theta),u*sen(\\theta)+v*cos(\\theta)] = f([x,y]) + f([u,v])$\n",
    "\n",
    "Se cumplen ambas condiciones, luego, la función r(x,y) para un ángulo $\\theta$ es una función lineal."
   ]
  },
  {
   "cell_type": "markdown",
   "metadata": {},
   "source": [
    "<span style=\"color:blue\"> Ejercicio 10:  \n",
    "¿Cuál es la representación coordenada del vector v= [6, 3, 2, 5] en términos de los vectores [2, 2, 2, 3], [1, 0, −1, 0], [0, 1, 0, 1]?</style> "
   ]
  },
  {
   "cell_type": "markdown",
   "metadata": {},
   "source": [
    "vector v = $[6,3,2,5]$\n",
    "\n",
    "base vectorial: $([2,2,2,3], [1,0,−1,0], [0,1,0,1])$\n",
    "\n",
    "$[6,3,2,5] = a * [2,2,2,3] + b * [1,0,−1,0] + c * [0,1,0,1]$\n",
    "\n",
    "$\n",
    " 6 = 2a + b \\\\\n",
    " 3 = 2a + c \\\\\n",
    " 2 = 2a -b \\\\\n",
    " 5 = 3a + c\n",
    "$\n",
    "\n",
    "Despejamos b = 2a - 2 de la tercera ecuación y lo aplicamos a la primera:\n",
    "\n",
    "> 6 = 2a + 2a - 2   ->   4a = 8   ->   **a = 2**\n",
    "\n",
    "Aplicando el resultado de \"a\" en las ecuaciones restantes y obtenemos:\n",
    "\n",
    "> **b = 2** y **c = -1**\n",
    "\n",
    "La representacion coordenada del vector v es $[2,2,-1]$\n",
    "\n",
    "Que se corresponde con $2 * [2,2,2,3] + 2 * [1,0,−1,0] - 1 * [0,1,0,1]$"
   ]
  },
  {
   "cell_type": "markdown",
   "metadata": {},
   "source": [
    "<span style=\"color:blue\"> Ejercicio 11:  \n",
    "Supongamos que queremos diseñar la red de internet para el otro campus universitario.  \n",
    "La red debe lograr la misma conectividad que el grafo de entrada.  \n",
    "Una arista representa un posible cable.  \n",
    "El peso de la arista es el coste de instalar el cable.  \n",
    "Nuestro objetivo es minimizar el coste total, usando el algoritmo Grow y el algoritmo Shrink.  </style> "
   ]
  },
  {
   "cell_type": "markdown",
   "metadata": {},
   "source": [
    "** Algoritmo Grow**</style>  \n",
    "> <span style=\"color:orange\"> def Grow (G)</style>  \n",
    "> <span style=\"color:orange\"> S: = ∅</style>\n",
    "> <span style=\"color:orange\"> Consideremos las aristas e en orden creciente:</style>  \n",
    ">> <span style=\"color:orange\"> Si los puntos finales de e aún no están conectados, agregue e a S.</style>  \n",
    "\n",
    "En el grafo, los pesos de las aristas son:\n",
    "\n",
    "> * {Bio-Med, Penibroke Campus}:2\n",
    "> * {Penibroke Campus, Athletic Complex}:7\n",
    "> * {Bio-Med, Athletic Complex}:9\n",
    "\n",
    "\n",
    "- Inicialmente S: = ∅\n",
    "- Añadimos la arista más corta: S={{Bio-Med, Penibroke Campus}}\n",
    "- Añaimos la arista de menor peso: S={{Bio-Med, Penibroke Campus},{Penibroke Campus, Athletic Complex}}\n",
    "- Obtenemos el mínimo conjunto generador. \n",
    "\n",
    "\n",
    "<span style=\"color:orange\">** Algoritmo Shrink**</style>  \n",
    "> <span style=\"color:orange\"> def Shrink (G)</style>  \n",
    "> <span style=\"color:orange\"> S: = { {Main Quad, Wriston Quad}, {Main Quad, Keeney Quad}, {Keeney Quad, Wriston Quad}, {Wriston Quad, Gregorian Quad}, {Keeney Quad, Gregorian Quad} }</style>\n",
    "> <span style=\"color:orange\"> Consideremos las aristas e en orden decreciente:</style>  \n",
    ">> <span style=\"color:orange\"> Si cada par de nodos están conectados mediante S-{e}: quitar e de S.</style> \n",
    "\n",
    "- Inicialmente S: = {{Bio-Med, Penibroke Campus},{Penibroke Campus, Athletic Complex},{Bio-Med, Athletic Complex}}\n",
    "- Eliminamos el tramo mas largo tras asegurar que cada par de nodos siguen conectados: S={{Bio-Med, Penibroke Campus},{Penibroke Campus, Athletic Complex}}\n",
    "- Verificamos que no es posible eliminar ningúno de los nodos restantes, por lo que ya tenemos S "
   ]
  },
  {
   "cell_type": "markdown",
   "metadata": {},
   "source": [
    "<span style=\"color:blue\"> Ejercicio 12:  \n",
    "Sea la matriz $\n",
    "  M=\n",
    "  \\left[ {\\begin{array}{cc}\n",
    "   1 & 0  & 0 & 5 \\\\\n",
    "   0 & 2  & 0 & 7 \\\\\n",
    "   0 & 0  & 3 & 9 \\\\\n",
    "  \\end{array} } \\right]\n",
    "$. Calcular el rango por filas y por columnas usando Python.</style> "
   ]
  },
  {
   "cell_type": "code",
   "execution_count": null,
   "metadata": {},
   "outputs": [],
   "source": [
    "M = np.matrix([\n",
    "    [1,0,0,5],\n",
    "    [0,2,0,7],\n",
    "    [0,0,3,9]\n",
    "    ])\n",
    "\n",
    "np.linalg.matrix_rank(M)"
   ]
  },
  {
   "cell_type": "code",
   "execution_count": null,
   "metadata": {},
   "outputs": [],
   "source": [
    "np.linalg.matrix_rank(np.transpose(M))"
   ]
  },
  {
   "cell_type": "markdown",
   "metadata": {
    "collapsed": true
   },
   "source": [
    "<span style=\"color:blue\"> Ejercicio 13 (opcional):  \n",
    "Crea un algoritmo que transforme una matriz cualquiera en GF(2) en una matriz escalonada.</style> "
   ]
  },
  {
   "cell_type": "code",
   "execution_count": null,
   "metadata": {},
   "outputs": [],
   "source": []
  },
  {
   "cell_type": "markdown",
   "metadata": {},
   "source": [
    "<span style=\"color:blue\"> Ejercicio 14:  \n",
    "Modificar lo necesario en los algoritmos para que funcionen y calculen el problema de la casa en llamas.</style>"
   ]
  },
  {
   "cell_type": "code",
   "execution_count": null,
   "metadata": {},
   "outputs": [],
   "source": [
    "import math\n",
    "\n",
    "def proyeccion_paralela(b, a):\n",
    "    sigma = np.dot(b,a)/np.dot(a,a) if np.dot(a,a) > 10^-20 else 0\n",
    "    return mult_vector_escalar(sigma,a)\n",
    "\n",
    "def proyeccion_ortogonal(b, a):\n",
    "    return np.add(b, np.negative(proyeccion_paralela(b, a)))\n",
    "\n",
    "a=[6.,2.]\n",
    "b=[2.,4.]\n",
    "\n",
    "pp = proyeccion_paralela(b,a)\n",
    "po = proyeccion_ortogonal(b,a)\n",
    "\n",
    "r = round(math.sqrt(producto_vectorial(po,po)),3)\n",
    "print(\"proyeccion_paralela(b,a): {0}, proyeccion_ortogonal(b,a): {1}, resultado: {2}\".format(pp, po, r))"
   ]
  },
  {
   "cell_type": "markdown",
   "metadata": {},
   "source": [
    "## Comentarios"
   ]
  },
  {
   "cell_type": "markdown",
   "metadata": {},
   "source": [
    "La verdad es que éste módulo lo he disfrutado, porque me ha echo refrescar algunas de las cosas que ví en la carrera.\n",
    "En general el único comentario consructivo que añadiria es que, como decías al principio, \"las matemáticas se aprenden con lápiz y papel\", y creo que si dispusiéses de una aplicación tipo pizarra sería más fácil seguirlo sobretodo en las explicaciones que requiren de visión espacial."
   ]
  },
  {
   "cell_type": "code",
   "execution_count": null,
   "metadata": {},
   "outputs": [],
   "source": [
    "display(button)"
   ]
  },
  {
   "cell_type": "code",
   "execution_count": null,
   "metadata": {},
   "outputs": [],
   "source": []
  }
 ],
 "metadata": {
  "kernelspec": {
   "display_name": "Python 3",
   "language": "python",
   "name": "python3"
  },
  "language_info": {
   "codemirror_mode": {
    "name": "ipython",
    "version": 3
   },
   "file_extension": ".py",
   "mimetype": "text/x-python",
   "name": "python",
   "nbconvert_exporter": "python",
   "pygments_lexer": "ipython3",
   "version": "3.6.4"
  }
 },
 "nbformat": 4,
 "nbformat_minor": 2
}
